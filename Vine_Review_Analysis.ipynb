{
 "cells": [
  {
   "cell_type": "code",
   "execution_count": null,
   "id": "e913232a",
   "metadata": {},
   "outputs": [],
   "source": [
    "import os\n",
    "# Find the latest version of spark 2.0 from http://www-us.apache.org/dist/spark/ and enter as the spark version\n",
    "# For example:\n",
    "# spark_version = 'spark-2.4.7'\n",
    "spark_version = 'spark-2.4.7'\n",
    "os.environ['SPARK_VERSION']=spark_version\n",
    "\n",
    "# Install Spark and Java\n",
    "!apt-get update\n",
    "!apt-get install openjdk-11-jdk-headless -qq > /dev/null\n",
    "!wget -q http://www-us.apache.org/dist/spark/$SPARK_VERSION/$SPARK_VERSION-bin-hadoop2.7.tgz\n",
    "!tar xf $SPARK_VERSION-bin-hadoop2.7.tgz\n",
    "!pip install -q findspark\n",
    "\n",
    "# Set Environment Variables \",\n",
    "import os\n",
    "os.environ[\"JAVA_HOME\"] = \"/usr/lib/jvm/java-11-openjdk-amd64\"\n",
    "os.environ[\"SPARK_HOME\"] = f\"/content/{spark_version}-bin-hadoop2.7\"\n",
    "\n",
    "# Start a SparkSession\n",
    "import findspark\n",
    "findspark.init()"
   ]
  },
  {
   "cell_type": "code",
   "execution_count": null,
   "id": "2c6e03c7",
   "metadata": {},
   "outputs": [],
   "source": [
    "!pip install pyspark"
   ]
  },
  {
   "cell_type": "code",
   "execution_count": null,
   "id": "6bdaa0bc",
   "metadata": {},
   "outputs": [],
   "source": [
    "# Download the Postgres driver that will allow Spark to interact with Postgres.\n",
    "!wget https://jdbc.postgresql.org/download/postgresql-42.2.16.jar"
   ]
  },
  {
   "cell_type": "code",
   "execution_count": null,
   "id": "d5133faf",
   "metadata": {},
   "outputs": [],
   "source": [
    "from pyspark.sql import SparkSession\n",
    "spark = SparkSession.builder.appName(\"BigData-ChallengeD2\").config(\"spark.driver.extraClassPath\",\"/content/postgresql-42.2.16.jar\").getOrCreate()"
   ]
  },
  {
   "cell_type": "code",
   "execution_count": null,
   "id": "99061d04",
   "metadata": {},
   "outputs": [],
   "source": [
    "\n",
    "from pyspark import SparkFiles\n",
    "url = \"https://s3.amazonaws.com/amazon-reviews-pds/tsv/amazon_reviews_us_Furniture_v1_00.tsv.gz\"\n",
    "spark.sparkContext.addFile(url)\n",
    "df = spark.read.option(\"encoding\", \"UTF-8\").csv(SparkFiles.get(\"amazon_reviews_us_Furniture_v1_00.tsv.gz\"), sep=\"\\t\", header=True, inferSchema=True)\n",
    "df.show()"
   ]
  },
  {
   "cell_type": "code",
   "execution_count": null,
   "id": "e68a265c",
   "metadata": {},
   "outputs": [],
   "source": [
    "# Confirm total_vote, helpful_votes, and star_rating are all integers\n",
    "df"
   ]
  },
  {
   "cell_type": "code",
   "execution_count": null,
   "id": "3191378a",
   "metadata": {},
   "outputs": [],
   "source": [
    "# Filter furniture data frame on total_vote greater than or equal to 20\n",
    "totalvotes_df = df.filter(\"total_votes>=20\")\n",
    "totalvotes_df.show()"
   ]
  },
  {
   "cell_type": "code",
   "execution_count": null,
   "id": "a08052ab",
   "metadata": {},
   "outputs": [],
   "source": [
    "helpful_50_df = totalvotes_df.filter(\"helpful_votes/total_votes>=.50\")\n",
    "helpful_50_df.show()"
   ]
  },
  {
   "cell_type": "code",
   "execution_count": null,
   "id": "86e99b9e",
   "metadata": {},
   "outputs": [],
   "source": [
    "print(helpful_50_df.count())"
   ]
  },
  {
   "cell_type": "code",
   "execution_count": null,
   "id": "760347c9",
   "metadata": {},
   "outputs": [],
   "source": [
    "vine_review_df = helpful_50_df.filter(helpful_50_df[\"vine\"] == \"Y\")\n",
    "vine_review_df.show()"
   ]
  },
  {
   "cell_type": "code",
   "execution_count": null,
   "id": "3a173995",
   "metadata": {},
   "outputs": [],
   "source": [
    "novine_review_df = helpful_50_df.filter(helpful_50_df[\"vine\"] == \"N\")\n",
    "novine_review_df.show()"
   ]
  },
  {
   "cell_type": "code",
   "execution_count": null,
   "id": "89c9acff",
   "metadata": {},
   "outputs": [],
   "source": [
    "from pyspark.sql.functions import count\n",
    "# Total number of reviews for each dataframe from Step 3 and Step 4:\n",
    "vine_review_count = vine_review_df.count()\n",
    "print(\"Total Number of Reviews PAID and 'helpful': %f\" % vine_review_count)\n",
    "\n",
    "novine_review_count = novine_review_df.count()\n",
    "print(\"Total Number of Reviews NON-PAID and 'helpful': %f\" % novine_review_count)"
   ]
  },
  {
   "cell_type": "code",
   "execution_count": null,
   "id": "0f13d40d",
   "metadata": {},
   "outputs": [],
   "source": [
    "# Number of 5-star Reviews for above Paid and Non-Paid dataframes\n",
    "star5_vine_df = vine_review_df.filter(novine_review_df[\"star_rating\"]==\"5\")\n",
    "print(\"Total Number of 5-star Reviews PAID and 'helpful': %f\" % star5_vine_df.count())\n",
    "\n",
    "\n",
    "star5_novine_df = novine_review_df.filter(novine_review_df[\"star_rating\"]==\"5\")\n",
    "print(\"Total Number of 5-star Reviews NON-PAID and 'helpful': %f\" % star5_novine_df.count())"
   ]
  },
  {
   "cell_type": "code",
   "execution_count": null,
   "id": "6d1eec31",
   "metadata": {},
   "outputs": [],
   "source": [
    "# Percentage of 5-star Reviews for above Paid and Non-Paid dataframes\n",
    "star5_vine_pct = (star5_vine_df.count()/vine_review_count)\n",
    "print(\"Percent of 5-Star Furniture Reviews from PAID, 'helpful' dataset: %f\" % star5_vine_pct)\n",
    "\n",
    "star5_novine_pct = (star5_novine_df.count()/novine_review_count)\n",
    "print(\"Percent of 5-Star Furniture Reviews from NON-PAID, 'helpful' dataset: %f\" % star5_novine_pct)"
   ]
  },
  {
   "cell_type": "code",
   "execution_count": null,
   "id": "5434da73",
   "metadata": {},
   "outputs": [],
   "source": [
    "# Total number of ALL reviews\n",
    "total_reviews_count = df.count()\n",
    "print(\"Total Number of Furniture Reviews: %f\" % total_reviews_count)\n",
    "\n",
    "help_reviews_count = helpful_50_df.count()\n",
    "print(\"Total Number of 'Helpful' Furniture Reviews: %f\" % help_reviews_count)"
   ]
  },
  {
   "cell_type": "code",
   "execution_count": null,
   "id": "6bba3205",
   "metadata": {},
   "outputs": [],
   "source": [
    "#Total number of ALL 5-star reviews\n",
    "star5_df = df.filter(df[\"star_rating\"] == '5')\n",
    "star5_df.show()\n",
    "\n",
    "star5_count = star5_df.count()\n",
    "print(\"Total Number of 5-Star Furniture Reviews: %f\" % star5_count)"
   ]
  },
  {
   "cell_type": "code",
   "execution_count": null,
   "id": "540c60ac",
   "metadata": {},
   "outputs": [],
   "source": [
    "#Total number of 5-star HELPFUL reviews\n",
    "star5_help_df = helpful_50_df.filter(helpful_50_df[\"star_rating\"] == '5')\n",
    "star5_help_df.show()\n",
    "\n",
    "star5_help_count = star5_help_df.count()\n",
    "print(\"Total Number of 5-Star 'Helpful' Furniture Reviews: %f\" % star5_help_count)"
   ]
  },
  {
   "cell_type": "code",
   "execution_count": null,
   "id": "0ff390c2",
   "metadata": {},
   "outputs": [],
   "source": [
    "# Percentage of ALL 5-star reviews paid vs non-paid \n",
    "# 5-star Paid reviews \n",
    "vine_star5_all_df = star5_df.filter(star5_df[\"vine\"] == \"Y\")\n",
    "vine_star5_all_count = vine_star5_all_df.count()\n",
    "\n",
    "vine_star5_all_pct = (vine_star5_all_count/star5_count)\n",
    "print(\"Number of 5-Star Furniture Reviews PAID: %f\" % vine_star5_all_count)\n",
    "print(\"Percent of 5-Star Furniture Reviews PAID: %f\" % vine_star5_all_pct)\n",
    " \n",
    "#5-star Non-Paid reviews\n",
    "novine_star5_all_df = star5_df.filter(star5_df[\"vine\"] == \"N\")\n",
    "novine_star5_all_count = novine_star5_all_df.count()\n",
    "\n",
    "novine_star5_all_pct = novine_star5_all_count/star5_count\n",
    "print(\"Number of 5-Star Furniture Reviews NON-PAID: %f\" % novine_star5_all_count)\n",
    "print(\"Percent of 5-Star Furniture Reviews NON-PAID: %f\" % novine_star5_all_pct)"
   ]
  },
  {
   "cell_type": "code",
   "execution_count": null,
   "id": "fd1e02d3",
   "metadata": {},
   "outputs": [],
   "source": [
    "# Percentage of HELPFUL 5-star reviews paid vs non-paid (% of 5 star reviews in Step 3 dataframe) \n",
    "# 5-star Paid \"helpful\" reviews \n",
    "vine_star5_help_df = star5_help_df.filter(star5_help_df[\"vine\"] == \"Y\")\n",
    "vine_star5_help_count = vine_star5_help_df.count()\n",
    "\n",
    "vine_star5_help_pct = (vine_star5_help_count/star5_help_count)\n",
    "print(\"Number of 5-Star, 'Helpful' Furniture Reviews PAID: %f\" % vine_star5_help_count)\n",
    "print(\"Percent of 5-Star,'Helpful'Furniture Reviews PAID: %f\" % vine_star5_help_pct)\n",
    " \n",
    "#5-star Non-Paid \"helpful\" reviews\n",
    "novine_star5_help_df = star5_help_df.filter(star5_help_df[\"vine\"] == \"N\")\n",
    "novine_star5_help_count = novine_star5_help_df.count()\n",
    "\n",
    "novine_star5_help_pct = novine_star5_help_count/star5_help_count\n",
    "print(\"Number of 5-Star, 'Helpful' Furniture Reviews NON-PAID: %f\" % novine_star5_help_count)\n",
    "print(\"Percent of 5-Star,'Helpful'Furniture Reviews NON-PAID: %f\" % novine_star5_help_pct)"
   ]
  },
  {
   "cell_type": "code",
   "execution_count": null,
   "id": "9b954877",
   "metadata": {},
   "outputs": [],
   "source": [
    "#Percent of Vine vs non-Vine all reviews\n",
    "vine_all_df = df.filter(df[\"vine\"] == \"Y\")\n",
    "novine_all_df = df.filter(df[\"vine\"] == \"N\")\n",
    "vine_pct_all = (vine_all_df.count()/df.count())\n",
    "novine_pct_all = (novine_all_df.count()/df.count())\n",
    "\n",
    "\n",
    "print(df.count())\n",
    "print(vine_all_df.count())\n",
    "print(novine_all_df.count())\n",
    "print(vine_pct_all)\n",
    "print(novine_pct_all)"
   ]
  },
  {
   "cell_type": "code",
   "execution_count": null,
   "id": "9d559495",
   "metadata": {},
   "outputs": [],
   "source": [
    "# Percent of All Vine that is 5-Star\n",
    "vine_all_star5_df = vine_all_df.filter(vine_all_df[\"star_rating\"] == '5')\n",
    "vine_all_star_df = vine_all_df.filter(vine_all_df[\"star_rating\"] != '5')\n",
    "\n",
    "novine_all_star5_df = novine_all_df.filter(novine_all_df[\"star_rating\"] == '5')\n",
    "novine_all_star_df = novine_all_df.filter(novine_all_df[\"star_rating\"] != '5')\n",
    "\n",
    "vine_pct_star5_all = (vine_all_star5_df.count()/vine_all_df.count())\n",
    "novine_pct_star5_all = (novine_all_star5_df.count()/novine_all_df.count())\n",
    "\n",
    "print(vine_all_star5_df.count())\n",
    "print(vine_all_star_df.count())\n",
    "\n",
    "print(novine_all_star5_df.count())\n",
    "print(novine_all_star_df.count())\n",
    "\n",
    "print(vine_pct_star5_all)\n",
    "print(novine_pct_star5_all)"
   ]
  },
  {
   "cell_type": "code",
   "execution_count": null,
   "id": "ec90a7af",
   "metadata": {},
   "outputs": [],
   "source": [
    "# Pull out all Vine reviewed products\n",
    "vine_prod_df = vine_all_df.select(vine_all_df[\"product_id\"]).dropDuplicates()\n",
    "vine_prod_df.show()\n",
    "vine_prod_df.count()"
   ]
  },
  {
   "cell_type": "code",
   "execution_count": null,
   "id": "dab3717c",
   "metadata": {},
   "outputs": [],
   "source": [
    "# create an inner join between all the Vine Reviews df and the full df\n",
    "inner_join = vine_prod_df.join(df, vine_all_df.product_id == df.product_id, how=\"inner\").dropDuplicates()\n",
    "inner_join.show()\n",
    "inner_join.count()"
   ]
  },
  {
   "cell_type": "code",
   "execution_count": null,
   "id": "e8f0af14",
   "metadata": {},
   "outputs": [],
   "source": [
    "# Rating breakdown \n",
    "new_df = inner_join.groupby(\"star_rating\").count()\n",
    "new_df.show()"
   ]
  },
  {
   "cell_type": "code",
   "execution_count": null,
   "id": "09a34604",
   "metadata": {},
   "outputs": [],
   "source": [
    "# Total Vine Reviews for Vine Products\n",
    "vine_new_df = inner_join.filter(inner_join[\"vine\"] == \"Y\")\n",
    "vine_new_df.count()"
   ]
  },
  {
   "cell_type": "code",
   "execution_count": null,
   "id": "e310556e",
   "metadata": {},
   "outputs": [],
   "source": [
    "# Total Vine Reviews for Vine Products\n",
    "novine_new_df = inner_join.filter(inner_join[\"vine\"] == \"N\")\n",
    "novine_new_df.count()"
   ]
  },
  {
   "cell_type": "code",
   "execution_count": null,
   "id": "5cce0917",
   "metadata": {},
   "outputs": [],
   "source": [
    "# % of 5-star reviews are Vine or non-Vine Reviews\n",
    "vine_star5_new = vine_new_df.groupby(\"star_rating\").count()\n",
    "vine_star5_new.show()"
   ]
  },
  {
   "cell_type": "code",
   "execution_count": null,
   "id": "b4f07819",
   "metadata": {},
   "outputs": [],
   "source": [
    "# % of 5-star reviews are Vine or non-Vine Reviews\n",
    "novine_star5_new = novine_new_df.groupby(\"star_rating\").count()\n",
    "novine_star5_new.show()"
   ]
  },
  {
   "cell_type": "code",
   "execution_count": null,
   "id": "b6617af4",
   "metadata": {},
   "outputs": [],
   "source": []
  }
 ],
 "metadata": {
  "kernelspec": {
   "display_name": "PythonData",
   "language": "python",
   "name": "pythondata"
  },
  "language_info": {
   "codemirror_mode": {
    "name": "ipython",
    "version": 3
   },
   "file_extension": ".py",
   "mimetype": "text/x-python",
   "name": "python",
   "nbconvert_exporter": "python",
   "pygments_lexer": "ipython3",
   "version": "3.7.10"
  }
 },
 "nbformat": 4,
 "nbformat_minor": 5
}
